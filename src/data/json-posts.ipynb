{
  "cells": [
    {
      "cell_type": "code",
      "execution_count": null,
      "metadata": {},
      "outputs": [
        {
          "name": "stdout",
          "output_type": "stream",
          "text": [
            "Filtered data written to actions_and_events.json\n",
            "Found 7 items (5 actions and 2 events)\n",
            "Filtered by phases: Initiation, Planning\n"
          ]
        }
      ],
      "source": [
        "import json\n",
        "\n",
        "def filter_actions_and_events(input_file, output_file, phases=None):\n",
        "    \"\"\"\n",
        "    Filter JSON data for actions and events, optionally by specific phases.\n",
        "    \n",
        "    Args:\n",
        "        input_file (str): Path to input JSON file\n",
        "        output_file (str): Path to output JSON file\n",
        "        phases (list, optional): List of phases to filter by. If None, all phases are included.\n",
        "    \"\"\"\n",
        "    # Read the JSON file\n",
        "    with open(input_file, 'r', encoding='utf-8') as f:\n",
        "        data = json.load(f)\n",
        "    \n",
        "    # Filter for \"action\" and \"event\" objects\n",
        "    filtered_data = [item for item in data if item.get(\"type\") == \"action\" or item.get(\"type\") == \"event\"]\n",
        "    \n",
        "    # If phases are specified, filter by phases\n",
        "    if phases:\n",
        "        filtered_data = [\n",
        "            item for item in filtered_data \n",
        "            if \"phase\" in item and any(phase in item[\"phase\"] for phase in phases)\n",
        "        ]\n",
        "    \n",
        "    # Write the filtered data to a new JSON file\n",
        "    with open(output_file, 'w', encoding='utf-8') as f:\n",
        "        json.dump(filtered_data, f, ensure_ascii=False, indent=2)\n",
        "    \n",
        "    # Count actions and events\n",
        "    action_count = sum(1 for item in filtered_data if item.get('type') == 'action')\n",
        "    event_count = sum(1 for item in filtered_data if item.get('type') == 'event')\n",
        "    \n",
        "    print(f\"Filtered data written to {output_file}\")\n",
        "    print(f\"Found {len(filtered_data)} items ({action_count} actions and {event_count} events)\")\n",
        "    \n",
        "    if phases:\n",
        "        print(f\"Filtered by phases: {', '.join(phases)}\")\n",
        "\n",
        "\n",
        "if __name__ == \"__main__\":\n",
        "    phases_to_include = [\"Initiation\", \"Plannification\"]\n",
        "    input_file = \"project-cards-ecovoyage.json\"  # or whatever your input file is named\n",
        "    output_file = \"actions_and_events.json\"\n",
        "    filter_actions_and_events(input_file, output_file, phases_to_include)"
      ]
    },
    {
      "cell_type": "code",
      "execution_count": null,
      "metadata": {},
      "outputs": [],
      "source": []
    }
  ],
  "metadata": {
    "kernelspec": {
      "display_name": "base",
      "language": "python",
      "name": "python3"
    },
    "language_info": {
      "codemirror_mode": {
        "name": "ipython",
        "version": 3
      },
      "file_extension": ".py",
      "mimetype": "text/x-python",
      "name": "python",
      "nbconvert_exporter": "python",
      "pygments_lexer": "ipython3",
      "version": "3.10.12"
    }
  },
  "nbformat": 4,
  "nbformat_minor": 2
}
